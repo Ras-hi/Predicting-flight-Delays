{
  "nbformat": 4,
  "nbformat_minor": 0,
  "metadata": {
    "colab": {
      "provenance": [],
      "authorship_tag": "ABX9TyP8a6Se7f89tUGuIsEIuEDi",
      "include_colab_link": true
    },
    "kernelspec": {
      "name": "python3",
      "display_name": "Python 3"
    },
    "language_info": {
      "name": "python"
    }
  },
  "cells": [
    {
      "cell_type": "markdown",
      "metadata": {
        "id": "view-in-github",
        "colab_type": "text"
      },
      "source": [
        "<a href=\"https://colab.research.google.com/github/Ras-hi/Predicting-flight-Delays/blob/main/Cognizant_Flight_delay_Prediction.ipynb\" target=\"_parent\"><img src=\"https://colab.research.google.com/assets/colab-badge.svg\" alt=\"Open In Colab\"/></a>"
      ]
    },
    {
      "cell_type": "markdown",
      "source": [
        "# **Import the libraries**"
      ],
      "metadata": {
        "id": "QLIZODD1Dgtu"
      }
    },
    {
      "cell_type": "code",
      "execution_count": null,
      "metadata": {
        "id": "dTUl13XvDflF"
      },
      "outputs": [],
      "source": [
        "import numpy as np\n",
        "import pandas as pd\n",
        "import matplotlib.pyplot as plt\n",
        "import seaborn as sb\n",
        "import warnings\n",
        "from sklearn.model_selection import train_test_split\n",
        "from sklearn.ensemble import RandomForestClassifier\n",
        "from sklearn.metrics import accuracy_score, precision_score, recall_score, confusion_matrix, classification_report\n",
        "from sklearn.tree import DecisionTreeClassifier\n",
        "from sklearn.svm import SVC\n",
        "from xgboost import XGBClassifier\n",
        "\n",
        "warnings.filterwarnings(\"ignore\")\n",
        "pd.set_option('display.max_columns', None)"
      ]
    },
    {
      "cell_type": "markdown",
      "source": [
        "\n",
        "# **Load the Dataset**"
      ],
      "metadata": {
        "id": "uXxdnEj8Ds1d"
      }
    },
    {
      "cell_type": "code",
      "source": [
        "df = pd.read_csv('/content/flight_new.csv')"
      ],
      "metadata": {
        "id": "PCWJ2mzSDsCb"
      },
      "execution_count": null,
      "outputs": []
    },
    {
      "cell_type": "markdown",
      "source": [
        "# **EDA and Basic Information**"
      ],
      "metadata": {
        "id": "HLcsIDE_D5Vu"
      }
    },
    {
      "cell_type": "code",
      "source": [
        "df.info()\n",
        "df.describe()"
      ],
      "metadata": {
        "colab": {
          "base_uri": "https://localhost:8080/",
          "height": 574
        },
        "id": "vjA5Y6O5EEF_",
        "outputId": "d38042aa-faf1-4bf0-ed2d-8ec435a8188d"
      },
      "execution_count": null,
      "outputs": [
        {
          "output_type": "stream",
          "name": "stdout",
          "text": [
            "<class 'pandas.core.frame.DataFrame'>\n",
            "RangeIndex: 100239 entries, 0 to 100238\n",
            "Data columns (total 8 columns):\n",
            " #   Column        Non-Null Count   Dtype  \n",
            "---  ------        --------------   -----  \n",
            " 0   FL_DATE       100239 non-null  object \n",
            " 1   AIRLINE       100239 non-null  object \n",
            " 2   ORIGIN        100239 non-null  object \n",
            " 3   DEST          100239 non-null  object \n",
            " 4   CRS_DEP_TIME  100239 non-null  int64  \n",
            " 5   ARR_DELAY     97864 non-null   float64\n",
            " 6   CANCELLED     100239 non-null  float64\n",
            " 7   DIVERTED      100239 non-null  float64\n",
            "dtypes: float64(3), int64(1), object(4)\n",
            "memory usage: 6.1+ MB\n"
          ]
        },
        {
          "output_type": "execute_result",
          "data": {
            "text/plain": [
              "        CRS_DEP_TIME     ARR_DELAY      CANCELLED       DIVERTED\n",
              "count  100239.000000  97864.000000  100239.000000  100239.000000\n",
              "mean     1309.097327      4.545441       0.021449       0.002245\n",
              "std       505.404625     49.237807       0.144875       0.047325\n",
              "min         2.000000    -82.000000       0.000000       0.000000\n",
              "25%       900.000000    -15.000000       0.000000       0.000000\n",
              "50%      1310.000000     -6.000000       0.000000       0.000000\n",
              "75%      1725.000000      8.000000       0.000000       0.000000\n",
              "max      2359.000000   1572.000000       1.000000       1.000000"
            ],
            "text/html": [
              "\n",
              "  <div id=\"df-a609e14e-e158-4301-98ac-2aead9a0a3c5\" class=\"colab-df-container\">\n",
              "    <div>\n",
              "<style scoped>\n",
              "    .dataframe tbody tr th:only-of-type {\n",
              "        vertical-align: middle;\n",
              "    }\n",
              "\n",
              "    .dataframe tbody tr th {\n",
              "        vertical-align: top;\n",
              "    }\n",
              "\n",
              "    .dataframe thead th {\n",
              "        text-align: right;\n",
              "    }\n",
              "</style>\n",
              "<table border=\"1\" class=\"dataframe\">\n",
              "  <thead>\n",
              "    <tr style=\"text-align: right;\">\n",
              "      <th></th>\n",
              "      <th>CRS_DEP_TIME</th>\n",
              "      <th>ARR_DELAY</th>\n",
              "      <th>CANCELLED</th>\n",
              "      <th>DIVERTED</th>\n",
              "    </tr>\n",
              "  </thead>\n",
              "  <tbody>\n",
              "    <tr>\n",
              "      <th>count</th>\n",
              "      <td>100239.000000</td>\n",
              "      <td>97864.000000</td>\n",
              "      <td>100239.000000</td>\n",
              "      <td>100239.000000</td>\n",
              "    </tr>\n",
              "    <tr>\n",
              "      <th>mean</th>\n",
              "      <td>1309.097327</td>\n",
              "      <td>4.545441</td>\n",
              "      <td>0.021449</td>\n",
              "      <td>0.002245</td>\n",
              "    </tr>\n",
              "    <tr>\n",
              "      <th>std</th>\n",
              "      <td>505.404625</td>\n",
              "      <td>49.237807</td>\n",
              "      <td>0.144875</td>\n",
              "      <td>0.047325</td>\n",
              "    </tr>\n",
              "    <tr>\n",
              "      <th>min</th>\n",
              "      <td>2.000000</td>\n",
              "      <td>-82.000000</td>\n",
              "      <td>0.000000</td>\n",
              "      <td>0.000000</td>\n",
              "    </tr>\n",
              "    <tr>\n",
              "      <th>25%</th>\n",
              "      <td>900.000000</td>\n",
              "      <td>-15.000000</td>\n",
              "      <td>0.000000</td>\n",
              "      <td>0.000000</td>\n",
              "    </tr>\n",
              "    <tr>\n",
              "      <th>50%</th>\n",
              "      <td>1310.000000</td>\n",
              "      <td>-6.000000</td>\n",
              "      <td>0.000000</td>\n",
              "      <td>0.000000</td>\n",
              "    </tr>\n",
              "    <tr>\n",
              "      <th>75%</th>\n",
              "      <td>1725.000000</td>\n",
              "      <td>8.000000</td>\n",
              "      <td>0.000000</td>\n",
              "      <td>0.000000</td>\n",
              "    </tr>\n",
              "    <tr>\n",
              "      <th>max</th>\n",
              "      <td>2359.000000</td>\n",
              "      <td>1572.000000</td>\n",
              "      <td>1.000000</td>\n",
              "      <td>1.000000</td>\n",
              "    </tr>\n",
              "  </tbody>\n",
              "</table>\n",
              "</div>\n",
              "    <div class=\"colab-df-buttons\">\n",
              "\n",
              "  <div class=\"colab-df-container\">\n",
              "    <button class=\"colab-df-convert\" onclick=\"convertToInteractive('df-a609e14e-e158-4301-98ac-2aead9a0a3c5')\"\n",
              "            title=\"Convert this dataframe to an interactive table.\"\n",
              "            style=\"display:none;\">\n",
              "\n",
              "  <svg xmlns=\"http://www.w3.org/2000/svg\" height=\"24px\" viewBox=\"0 -960 960 960\">\n",
              "    <path d=\"M120-120v-720h720v720H120Zm60-500h600v-160H180v160Zm220 220h160v-160H400v160Zm0 220h160v-160H400v160ZM180-400h160v-160H180v160Zm440 0h160v-160H620v160ZM180-180h160v-160H180v160Zm440 0h160v-160H620v160Z\"/>\n",
              "  </svg>\n",
              "    </button>\n",
              "\n",
              "  <style>\n",
              "    .colab-df-container {\n",
              "      display:flex;\n",
              "      gap: 12px;\n",
              "    }\n",
              "\n",
              "    .colab-df-convert {\n",
              "      background-color: #E8F0FE;\n",
              "      border: none;\n",
              "      border-radius: 50%;\n",
              "      cursor: pointer;\n",
              "      display: none;\n",
              "      fill: #1967D2;\n",
              "      height: 32px;\n",
              "      padding: 0 0 0 0;\n",
              "      width: 32px;\n",
              "    }\n",
              "\n",
              "    .colab-df-convert:hover {\n",
              "      background-color: #E2EBFA;\n",
              "      box-shadow: 0px 1px 2px rgba(60, 64, 67, 0.3), 0px 1px 3px 1px rgba(60, 64, 67, 0.15);\n",
              "      fill: #174EA6;\n",
              "    }\n",
              "\n",
              "    .colab-df-buttons div {\n",
              "      margin-bottom: 4px;\n",
              "    }\n",
              "\n",
              "    [theme=dark] .colab-df-convert {\n",
              "      background-color: #3B4455;\n",
              "      fill: #D2E3FC;\n",
              "    }\n",
              "\n",
              "    [theme=dark] .colab-df-convert:hover {\n",
              "      background-color: #434B5C;\n",
              "      box-shadow: 0px 1px 3px 1px rgba(0, 0, 0, 0.15);\n",
              "      filter: drop-shadow(0px 1px 2px rgba(0, 0, 0, 0.3));\n",
              "      fill: #FFFFFF;\n",
              "    }\n",
              "  </style>\n",
              "\n",
              "    <script>\n",
              "      const buttonEl =\n",
              "        document.querySelector('#df-a609e14e-e158-4301-98ac-2aead9a0a3c5 button.colab-df-convert');\n",
              "      buttonEl.style.display =\n",
              "        google.colab.kernel.accessAllowed ? 'block' : 'none';\n",
              "\n",
              "      async function convertToInteractive(key) {\n",
              "        const element = document.querySelector('#df-a609e14e-e158-4301-98ac-2aead9a0a3c5');\n",
              "        const dataTable =\n",
              "          await google.colab.kernel.invokeFunction('convertToInteractive',\n",
              "                                                    [key], {});\n",
              "        if (!dataTable) return;\n",
              "\n",
              "        const docLinkHtml = 'Like what you see? Visit the ' +\n",
              "          '<a target=\"_blank\" href=https://colab.research.google.com/notebooks/data_table.ipynb>data table notebook</a>'\n",
              "          + ' to learn more about interactive tables.';\n",
              "        element.innerHTML = '';\n",
              "        dataTable['output_type'] = 'display_data';\n",
              "        await google.colab.output.renderOutput(dataTable, element);\n",
              "        const docLink = document.createElement('div');\n",
              "        docLink.innerHTML = docLinkHtml;\n",
              "        element.appendChild(docLink);\n",
              "      }\n",
              "    </script>\n",
              "  </div>\n",
              "\n",
              "\n",
              "<div id=\"df-003e62ee-6a14-4e15-8855-d78560de37db\">\n",
              "  <button class=\"colab-df-quickchart\" onclick=\"quickchart('df-003e62ee-6a14-4e15-8855-d78560de37db')\"\n",
              "            title=\"Suggest charts\"\n",
              "            style=\"display:none;\">\n",
              "\n",
              "<svg xmlns=\"http://www.w3.org/2000/svg\" height=\"24px\"viewBox=\"0 0 24 24\"\n",
              "     width=\"24px\">\n",
              "    <g>\n",
              "        <path d=\"M19 3H5c-1.1 0-2 .9-2 2v14c0 1.1.9 2 2 2h14c1.1 0 2-.9 2-2V5c0-1.1-.9-2-2-2zM9 17H7v-7h2v7zm4 0h-2V7h2v10zm4 0h-2v-4h2v4z\"/>\n",
              "    </g>\n",
              "</svg>\n",
              "  </button>\n",
              "\n",
              "<style>\n",
              "  .colab-df-quickchart {\n",
              "      --bg-color: #E8F0FE;\n",
              "      --fill-color: #1967D2;\n",
              "      --hover-bg-color: #E2EBFA;\n",
              "      --hover-fill-color: #174EA6;\n",
              "      --disabled-fill-color: #AAA;\n",
              "      --disabled-bg-color: #DDD;\n",
              "  }\n",
              "\n",
              "  [theme=dark] .colab-df-quickchart {\n",
              "      --bg-color: #3B4455;\n",
              "      --fill-color: #D2E3FC;\n",
              "      --hover-bg-color: #434B5C;\n",
              "      --hover-fill-color: #FFFFFF;\n",
              "      --disabled-bg-color: #3B4455;\n",
              "      --disabled-fill-color: #666;\n",
              "  }\n",
              "\n",
              "  .colab-df-quickchart {\n",
              "    background-color: var(--bg-color);\n",
              "    border: none;\n",
              "    border-radius: 50%;\n",
              "    cursor: pointer;\n",
              "    display: none;\n",
              "    fill: var(--fill-color);\n",
              "    height: 32px;\n",
              "    padding: 0;\n",
              "    width: 32px;\n",
              "  }\n",
              "\n",
              "  .colab-df-quickchart:hover {\n",
              "    background-color: var(--hover-bg-color);\n",
              "    box-shadow: 0 1px 2px rgba(60, 64, 67, 0.3), 0 1px 3px 1px rgba(60, 64, 67, 0.15);\n",
              "    fill: var(--button-hover-fill-color);\n",
              "  }\n",
              "\n",
              "  .colab-df-quickchart-complete:disabled,\n",
              "  .colab-df-quickchart-complete:disabled:hover {\n",
              "    background-color: var(--disabled-bg-color);\n",
              "    fill: var(--disabled-fill-color);\n",
              "    box-shadow: none;\n",
              "  }\n",
              "\n",
              "  .colab-df-spinner {\n",
              "    border: 2px solid var(--fill-color);\n",
              "    border-color: transparent;\n",
              "    border-bottom-color: var(--fill-color);\n",
              "    animation:\n",
              "      spin 1s steps(1) infinite;\n",
              "  }\n",
              "\n",
              "  @keyframes spin {\n",
              "    0% {\n",
              "      border-color: transparent;\n",
              "      border-bottom-color: var(--fill-color);\n",
              "      border-left-color: var(--fill-color);\n",
              "    }\n",
              "    20% {\n",
              "      border-color: transparent;\n",
              "      border-left-color: var(--fill-color);\n",
              "      border-top-color: var(--fill-color);\n",
              "    }\n",
              "    30% {\n",
              "      border-color: transparent;\n",
              "      border-left-color: var(--fill-color);\n",
              "      border-top-color: var(--fill-color);\n",
              "      border-right-color: var(--fill-color);\n",
              "    }\n",
              "    40% {\n",
              "      border-color: transparent;\n",
              "      border-right-color: var(--fill-color);\n",
              "      border-top-color: var(--fill-color);\n",
              "    }\n",
              "    60% {\n",
              "      border-color: transparent;\n",
              "      border-right-color: var(--fill-color);\n",
              "    }\n",
              "    80% {\n",
              "      border-color: transparent;\n",
              "      border-right-color: var(--fill-color);\n",
              "      border-bottom-color: var(--fill-color);\n",
              "    }\n",
              "    90% {\n",
              "      border-color: transparent;\n",
              "      border-bottom-color: var(--fill-color);\n",
              "    }\n",
              "  }\n",
              "</style>\n",
              "\n",
              "  <script>\n",
              "    async function quickchart(key) {\n",
              "      const quickchartButtonEl =\n",
              "        document.querySelector('#' + key + ' button');\n",
              "      quickchartButtonEl.disabled = true;  // To prevent multiple clicks.\n",
              "      quickchartButtonEl.classList.add('colab-df-spinner');\n",
              "      try {\n",
              "        const charts = await google.colab.kernel.invokeFunction(\n",
              "            'suggestCharts', [key], {});\n",
              "      } catch (error) {\n",
              "        console.error('Error during call to suggestCharts:', error);\n",
              "      }\n",
              "      quickchartButtonEl.classList.remove('colab-df-spinner');\n",
              "      quickchartButtonEl.classList.add('colab-df-quickchart-complete');\n",
              "    }\n",
              "    (() => {\n",
              "      let quickchartButtonEl =\n",
              "        document.querySelector('#df-003e62ee-6a14-4e15-8855-d78560de37db button');\n",
              "      quickchartButtonEl.style.display =\n",
              "        google.colab.kernel.accessAllowed ? 'block' : 'none';\n",
              "    })();\n",
              "  </script>\n",
              "</div>\n",
              "\n",
              "    </div>\n",
              "  </div>\n"
            ],
            "application/vnd.google.colaboratory.intrinsic+json": {
              "type": "dataframe",
              "summary": "{\n  \"name\": \"df\",\n  \"rows\": 8,\n  \"fields\": [\n    {\n      \"column\": \"CRS_DEP_TIME\",\n      \"properties\": {\n        \"dtype\": \"number\",\n        \"std\": 35037.614642741646,\n        \"min\": 2.0,\n        \"max\": 100239.0,\n        \"num_unique_values\": 8,\n        \"samples\": [\n          1309.0973273875438,\n          1310.0,\n          100239.0\n        ],\n        \"semantic_type\": \"\",\n        \"description\": \"\"\n      }\n    },\n    {\n      \"column\": \"ARR_DELAY\",\n      \"properties\": {\n        \"dtype\": \"number\",\n        \"std\": 34527.2724646259,\n        \"min\": -82.0,\n        \"max\": 97864.0,\n        \"num_unique_values\": 8,\n        \"samples\": [\n          4.545440611460803,\n          -6.0,\n          97864.0\n        ],\n        \"semantic_type\": \"\",\n        \"description\": \"\"\n      }\n    },\n    {\n      \"column\": \"CANCELLED\",\n      \"properties\": {\n        \"dtype\": \"number\",\n        \"std\": 35439.77941307848,\n        \"min\": 0.0,\n        \"max\": 100239.0,\n        \"num_unique_values\": 5,\n        \"samples\": [\n          0.021448737517333574,\n          1.0,\n          0.1448754588078779\n        ],\n        \"semantic_type\": \"\",\n        \"description\": \"\"\n      }\n    },\n    {\n      \"column\": \"DIVERTED\",\n      \"properties\": {\n        \"dtype\": \"number\",\n        \"std\": 35439.78531012951,\n        \"min\": 0.0,\n        \"max\": 100239.0,\n        \"num_unique_values\": 5,\n        \"samples\": [\n          0.0022446353215814204,\n          1.0,\n          0.04732461596936652\n        ],\n        \"semantic_type\": \"\",\n        \"description\": \"\"\n      }\n    }\n  ]\n}"
            }
          },
          "metadata": {},
          "execution_count": 4
        }
      ]
    },
    {
      "cell_type": "markdown",
      "source": [
        "This summary provides a statistical overview of four columns in the dataset: `CRS_DEP_TIME`, `ARR_DELAY`, `CANCELLED`, and `DIVERTED`. Here’s what each section indicates:\n",
        "\n",
        "### 1. **CRS_DEP_TIME (Scheduled Departure Time)**:\n",
        "- **Count**: 100,239 records\n",
        "- **Mean**: Average scheduled departure time is around 1309 (military time, corresponding to 1:09 PM).\n",
        "- **Standard Deviation (std)**: 505, meaning departure times vary significantly.\n",
        "- **Min/Max**: The earliest flight departs at 00:02 (2 minutes past midnight), and the latest at 23:59 (11:59 PM).\n",
        "- **Quartiles**:\n",
        "  - 25% of flights depart by 9:00 AM (25th percentile).\n",
        "  - 50% (median) depart by 1:10 PM.\n",
        "  - 75% depart by 5:25 PM.\n",
        "\n",
        "### 2. **ARR_DELAY (Arrival Delay in Minutes)**:\n",
        "- **Count**: 97,864 records (some flights lack delay info).\n",
        "- **Mean**: Average delay is 4.55 minutes.\n",
        "- **Standard Deviation**: 49.24, indicating a wide range of delays.\n",
        "- **Min/Max**: The largest early arrival was 82 minutes early, and the largest delay was 1,572 minutes (over 26 hours).\n",
        "- **Quartiles**:\n",
        "  - 25% of flights arrived 15 minutes early.\n",
        "  - 50% (median) were 6 minutes early.\n",
        "  - 75% of flights arrived 8 minutes late.\n",
        "\n",
        "### 3. **CANCELLED (Flight Cancellation Status)**:\n",
        "- **Count**: 100,239 records.\n",
        "- **Mean**: 0.021, meaning roughly 2.14% of flights were cancelled.\n",
        "- **Standard Deviation**: 0.145 (since this is binary, this value is low).\n",
        "- **Min/Max**: 0 means not cancelled, and 1 means cancelled.\n",
        "\n",
        "### 4. **DIVERTED (Flight Diversion Status)**:\n",
        "- **Count**: 100,239 records.\n",
        "- **Mean**: 0.002, meaning around 0.22% of flights were diverted.\n",
        "- **Standard Deviation**: 0.047 (again, low as it's a binary value).\n",
        "- **Min/Max**: 0 means not diverted, and 1 means diverted.\n",
        "\n",
        "### **Summary**:\n",
        "- Most flights are on time or arrive slightly early.\n",
        "- Only a small percentage of flights are cancelled (2.14%) or diverted (0.22%).\n",
        "- The dataset provides good coverage with over 100,000 flight records."
      ],
      "metadata": {
        "id": "p5Z8QecktlQQ"
      }
    },
    {
      "cell_type": "markdown",
      "source": [
        "# **Handle Missing Values**"
      ],
      "metadata": {
        "id": "Q4UfCP-YD6EW"
      }
    },
    {
      "cell_type": "code",
      "source": [
        "df['ARR_DELAY'].fillna(df['ARR_DELAY'].mean(), inplace=True)"
      ],
      "metadata": {
        "id": "_RqM0Q3fD6Y7"
      },
      "execution_count": null,
      "outputs": []
    },
    {
      "cell_type": "markdown",
      "source": [
        "# **Boxplots for Outliers**\n",
        "# Boxplot for ARR_DELAY"
      ],
      "metadata": {
        "id": "wsvEy_JED6uR"
      }
    },
    {
      "cell_type": "code",
      "source": [
        "plt.figure(figsize=(8, 6))\n",
        "sb.boxplot(x='ARR_DELAY', data=df, palette=\"Set3\")\n",
        "plt.title('Boxplot of Arrival Delay (ARR_DELAY)')\n",
        "plt.show()\n"
      ],
      "metadata": {
        "colab": {
          "base_uri": "https://localhost:8080/",
          "height": 564
        },
        "id": "OyjHEiK-D69q",
        "outputId": "d8848f3f-6d9b-499e-9f2b-8958376809d1"
      },
      "execution_count": null,
      "outputs": [
        {
          "output_type": "display_data",
          "data": {
            "text/plain": [
              "<Figure size 800x600 with 1 Axes>"
            ],
            "image/png": "[encoded data removed]"
          },
          "metadata": {}
        }
      ]
    },
    {
      "cell_type": "markdown",
      "source": [
        "### **Key Observations from the Boxplot**:\n",
        " 1. **Median (Central Line of the Box)**:\n",
        "  * The line inside the box represents the **median** (or 50th percentile) of the data, which is around 0. This indicates that most flights have **no significant arrival delays**.\n",
        " 2. **Interquartile Range (IQR)**:\n",
        "  * The box itself shows the **interquartile range (IQR)**, which spans from the **25th percentile** to the **75th percentile**. The upper and lower boundaries of the box represent these percentiles.\n",
        "   * Given that the box is narrow and positioned near 0, most flights have **little to no delays**.\n",
        " 3. **Whiskers (Lines Extending from the Box)**:\n",
        "  * The whiskers show the range of most of the data, typically extending 1.5 times the IQR from the quartiles.\n",
        "   * The whiskers extend slightly above zero, but not much, indicating that most of the flights are either on time or have minimal delays.\n",
        " 4. **Outliers**:\n",
        "  * **Dots beyond the whiskers** represent **outliers**, which are extreme delay values. In this case, there are a **significant number of outliers**, with some flights having arrival delays well over 500 minutes (about 8+ hours).\n",
        "   * These outliers indicate a small percentage of flights experiencing **extreme delays**.\n",
        " ### **Overall Interpretation**:\n",
        " * **Most flights** in our dataset seem to arrive **on time** or have minimal delays, as indicated by the concentration of values around 0.\n",
        " * However, there are **a large number of outliers** (extreme delay cases), which suggests that while the majority of flights have no or little delay, **some flights are severely delayed**, contributing to a wide range of delay times beyond 200 minutes and even exceeding 1000 minutes in rare cases.\n",
        "\n",
        "\n",
        "\n"
      ],
      "metadata": {
        "id": "eXv9lB5fmUBX"
      }
    },
    {
      "cell_type": "markdown",
      "source": [
        "# **Correlation Matrix**"
      ],
      "metadata": {
        "id": "AF095kipkP9O"
      }
    },
    {
      "cell_type": "code",
      "source": [
        "numeric_df = df.select_dtypes(include=['number'])"
      ],
      "metadata": {
        "id": "wEsTZhaAkSxs"
      },
      "execution_count": null,
      "outputs": []
    },
    {
      "cell_type": "markdown",
      "source": [
        "# Correlation matrix"
      ],
      "metadata": {
        "id": "7DtjU3qkkVjw"
      }
    },
    {
      "cell_type": "code",
      "source": [
        "plt.figure(figsize=(12, 10))\n",
        "sb.heatmap(numeric_df.corr(), annot=True, cmap='coolwarm')\n",
        "plt.title('Correlation Heatmap')\n",
        "plt.show()"
      ],
      "metadata": {
        "colab": {
          "base_uri": "https://localhost:8080/",
          "height": 853
        },
        "id": "NdhL0Q_WkXwf",
        "outputId": "a4ef5449-351f-4b98-b47f-dd049f035774"
      },
      "execution_count": null,
      "outputs": [
        {
          "output_type": "display_data",
          "data": {
            "text/plain": [
              "<Figure size 1200x1000 with 2 Axes>"
            ],
            "image/png": "[encoded data removed]"
          },
          "metadata": {}
        }
      ]
    },
    {
      "cell_type": "markdown",
      "source": [
        "# **Handling Cancellations and Diversions**"
      ],
      "metadata": {
        "id": "3tHMmvQBD7Mw"
      }
    },
    {
      "cell_type": "code",
      "source": [
        "df = df[(df['DIVERTED'] == False) & (df['CANCELLED'] == False)]"
      ],
      "metadata": {
        "id": "IPwH0URSD7b2"
      },
      "execution_count": null,
      "outputs": []
    },
    {
      "cell_type": "markdown",
      "source": [
        "# **Feature Engineering: Convert Date to Day and Month**"
      ],
      "metadata": {
        "id": "LpaaY41iD7tS"
      }
    },
    {
      "cell_type": "code",
      "source": [
        "df['FL_DATE'] = pd.to_datetime(df['FL_DATE'], errors='coerce')\n",
        "df['Month'] = df['FL_DATE'].dt.month\n",
        "df['Day'] = df['FL_DATE'].dt.day\n",
        "df = df.drop(columns=['FL_DATE'])"
      ],
      "metadata": {
        "id": "FJLuacnYD786"
      },
      "execution_count": null,
      "outputs": []
    },
    {
      "cell_type": "markdown",
      "source": [
        "# **Check Variance**"
      ],
      "metadata": {
        "id": "x_QtFLK9kkhm"
      }
    },
    {
      "cell_type": "code",
      "source": [
        "numerical_df = df.select_dtypes(include=['int64', 'float64'])\n",
        "variance = numerical_df.var()\n",
        "print(\"Feature Variances:\")\n",
        "print(variance)\n"
      ],
      "metadata": {
        "colab": {
          "base_uri": "https://localhost:8080/"
        },
        "id": "-MhnXiLKkmvy",
        "outputId": "b82b4e4c-7932-4538-c3ac-4d119b930630"
      },
      "execution_count": null,
      "outputs": [
        {
          "output_type": "stream",
          "name": "stdout",
          "text": [
            "Feature Variances:\n",
            "CRS_DEP_TIME    255077.319901\n",
            "ARR_DELAY         2424.361607\n",
            "CANCELLED            0.000000\n",
            "DIVERTED             0.000000\n",
            "dtype: float64\n"
          ]
        }
      ]
    },
    {
      "cell_type": "markdown",
      "source": [
        "# **Convert ARR_DELAY to Binary (0 = No Delay, 1 = Delay > 10 minutes)**\n",
        "# Create a new column DELAY_STATUS for binary delay classification"
      ],
      "metadata": {
        "id": "K5eq1ZZ-D8PM"
      }
    },
    {
      "cell_type": "code",
      "source": [
        "df['DELAY_STATUS'] = df['ARR_DELAY'].apply(lambda x: 1 if x > 10 else 0)"
      ],
      "metadata": {
        "id": "S55lOD5DD8iI"
      },
      "execution_count": null,
      "outputs": []
    },
    {
      "cell_type": "markdown",
      "source": [
        "\n",
        "# **EDA: Visualize Delay Proportions**\n"
      ],
      "metadata": {
        "id": "9JU9i8fqD9LN"
      }
    },
    {
      "cell_type": "markdown",
      "source": [
        "# Proportion of Delays"
      ],
      "metadata": {
        "id": "8OVI9E6Xk3As"
      }
    },
    {
      "cell_type": "code",
      "source": [
        "delay_counts = df['DELAY_STATUS'].value_counts(normalize=True) * 100\n",
        "plt.figure(figsize=(6, 6))\n",
        "sb.barplot(x=delay_counts.index, y=delay_counts.values, palette=\"Set2\")\n",
        "plt.title('Proportion of Delays (Delayed vs On-time Flights)')\n",
        "plt.xticks([0, 1], ['On-Time', 'Delayed'])\n",
        "plt.ylabel('Percentage (%)')\n",
        "plt.show()"
      ],
      "metadata": {
        "colab": {
          "base_uri": "https://localhost:8080/",
          "height": 564
        },
        "id": "cB_oIXUlEzFC",
        "outputId": "30fdd1fc-2ded-4e7b-ad23-7a52f5e222f7"
      },
      "execution_count": null,
      "outputs": [
        {
          "output_type": "display_data",
          "data": {
            "text/plain": [
              "<Figure size 600x600 with 1 Axes>"
            ],
            "image/png": "[encoded data removed]"
          },
          "metadata": {}
        }
      ]
    },
    {
      "cell_type": "markdown",
      "source": [
        "# **More Feature Engineering: Extract Hour from CRS_DEP_TIME**"
      ],
      "metadata": {
        "id": "0RcDKamYD9Ot"
      }
    },
    {
      "cell_type": "code",
      "source": [
        "df['DEP_HOUR'] = df['CRS_DEP_TIME'] // 100"
      ],
      "metadata": {
        "id": "dy_Z1Y4mD9fD"
      },
      "execution_count": null,
      "outputs": []
    },
    {
      "cell_type": "markdown",
      "source": [
        "# **Encoding Categorical Features**"
      ],
      "metadata": {
        "id": "ddfv82skE8Wz"
      }
    },
    {
      "cell_type": "code",
      "source": [
        "df = pd.get_dummies(df, columns=['AIRLINE', 'ORIGIN', 'DEST'])"
      ],
      "metadata": {
        "id": "GicZI4WEHAfD"
      },
      "execution_count": null,
      "outputs": []
    },
    {
      "cell_type": "markdown",
      "source": [
        "# **Convert Boolean Columns to Binary**"
      ],
      "metadata": {
        "id": "YpTzhdO9Q5fX"
      }
    },
    {
      "cell_type": "code",
      "source": [
        "boolean_cols = df.select_dtypes(include='bool').columns\n",
        "df[boolean_cols] = df[boolean_cols].astype(int)"
      ],
      "metadata": {
        "id": "XpTR1i_aQ6Ee"
      },
      "execution_count": null,
      "outputs": []
    },
    {
      "cell_type": "markdown",
      "source": [
        "# **Data Splitting**"
      ],
      "metadata": {
        "id": "3QFbXIEZQ_LB"
      }
    },
    {
      "cell_type": "code",
      "source": [
        "X = df.drop(columns=['ARR_DELAY', 'DELAY_STATUS'])  # Dropping ARR_DELAY and using DELAY_STATUS\n",
        "y = df['DELAY_STATUS']\n",
        "\n",
        "X_train, X_test, y_train, y_test = train_test_split(X, y, test_size=0.2, random_state=42)"
      ],
      "metadata": {
        "id": "Dh9iEMdSQ_zZ"
      },
      "execution_count": null,
      "outputs": []
    },
    {
      "cell_type": "code",
      "source": [
        "from sklearn.model_selection import train_test_split, cross_val_score, StratifiedKFold\n",
        "from sklearn.metrics import make_scorer, precision_score, recall_score, accuracy_score\n",
        "from sklearn.ensemble import RandomForestClassifier\n",
        "from sklearn.tree import DecisionTreeClassifier\n",
        "from sklearn.svm import SVC\n",
        "import xgboost as xgb\n"
      ],
      "metadata": {
        "id": "_NTQ4jp0xWd9"
      },
      "execution_count": null,
      "outputs": []
    },
    {
      "cell_type": "code",
      "source": [
        "# Step 2: Set up cross-validation\n",
        "kfold = StratifiedKFold(n_splits=5, shuffle=True, random_state=42)\n",
        "\n",
        "# Step 3: Define custom scoring metrics\n",
        "accuracy_scorer = make_scorer(accuracy_score)\n",
        "precision_scorer = make_scorer(precision_score)\n",
        "recall_scorer = make_scorer(recall_score)"
      ],
      "metadata": {
        "id": "qrQ6TQTSxfmU"
      },
      "execution_count": null,
      "outputs": []
    },
    {
      "cell_type": "markdown",
      "source": [
        "# **Model Training: Random Forest Classifier**"
      ],
      "metadata": {
        "id": "CKXRUgZ7RERk"
      }
    },
    {
      "cell_type": "code",
      "source": [
        "rf_model = RandomForestClassifier(random_state=42)\n",
        "rf_model.fit(X_train, y_train)"
      ],
      "metadata": {
        "colab": {
          "base_uri": "https://localhost:8080/",
          "height": 74
        },
        "id": "66XA8iItRIrZ",
        "outputId": "bdfb901b-d5f9-4b25-de3a-bd73431641c1"
      },
      "execution_count": null,
      "outputs": [
        {
          "output_type": "execute_result",
          "data": {
            "text/plain": [
              "RandomForestClassifier(random_state=42)"
            ],
            "text/html": [
              "<style>#sk-container-id-1 {color: black;}#sk-container-id-1 pre{padding: 0;}#sk-container-id-1 div.sk-toggleable {background-color: white;}#sk-container-id-1 label.sk-toggleable__label {cursor: pointer;display: block;width: 100%;margin-bottom: 0;padding: 0.3em;box-sizing: border-box;text-align: center;}#sk-container-id-1 label.sk-toggleable__label-arrow:before {content: \"▸\";float: left;margin-right: 0.25em;color: #696969;}#sk-container-id-1 label.sk-toggleable__label-arrow:hover:before {color: black;}#sk-container-id-1 div.sk-estimator:hover label.sk-toggleable__label-arrow:before {color: black;}#sk-container-id-1 div.sk-toggleable__content {max-height: 0;max-width: 0;overflow: hidden;text-align: left;background-color: #f0f8ff;}#sk-container-id-1 div.sk-toggleable__content pre {margin: 0.2em;color: black;border-radius: 0.25em;background-color: #f0f8ff;}#sk-container-id-1 input.sk-toggleable__control:checked~div.sk-toggleable__content {max-height: 200px;max-width: 100%;overflow: auto;}#sk-container-id-1 input.sk-toggleable__control:checked~label.sk-toggleable__label-arrow:before {content: \"▾\";}#sk-container-id-1 div.sk-estimator input.sk-toggleable__control:checked~label.sk-toggleable__label {background-color: #d4ebff;}#sk-container-id-1 div.sk-label input.sk-toggleable__control:checked~label.sk-toggleable__label {background-color: #d4ebff;}#sk-container-id-1 input.sk-hidden--visually {border: 0;clip: rect(1px 1px 1px 1px);clip: rect(1px, 1px, 1px, 1px);height: 1px;margin: -1px;overflow: hidden;padding: 0;position: absolute;width: 1px;}#sk-container-id-1 div.sk-estimator {font-family: monospace;background-color: #f0f8ff;border: 1px dotted black;border-radius: 0.25em;box-sizing: border-box;margin-bottom: 0.5em;}#sk-container-id-1 div.sk-estimator:hover {background-color: #d4ebff;}#sk-container-id-1 div.sk-parallel-item::after {content: \"\";width: 100%;border-bottom: 1px solid gray;flex-grow: 1;}#sk-container-id-1 div.sk-label:hover label.sk-toggleable__label {background-color: #d4ebff;}#sk-container-id-1 div.sk-serial::before {content: \"\";position: absolute;border-left: 1px solid gray;box-sizing: border-box;top: 0;bottom: 0;left: 50%;z-index: 0;}#sk-container-id-1 div.sk-serial {display: flex;flex-direction: column;align-items: center;background-color: white;padding-right: 0.2em;padding-left: 0.2em;position: relative;}#sk-container-id-1 div.sk-item {position: relative;z-index: 1;}#sk-container-id-1 div.sk-parallel {display: flex;align-items: stretch;justify-content: center;background-color: white;position: relative;}#sk-container-id-1 div.sk-item::before, #sk-container-id-1 div.sk-parallel-item::before {content: \"\";position: absolute;border-left: 1px solid gray;box-sizing: border-box;top: 0;bottom: 0;left: 50%;z-index: -1;}#sk-container-id-1 div.sk-parallel-item {display: flex;flex-direction: column;z-index: 1;position: relative;background-color: white;}#sk-container-id-1 div.sk-parallel-item:first-child::after {align-self: flex-end;width: 50%;}#sk-container-id-1 div.sk-parallel-item:last-child::after {align-self: flex-start;width: 50%;}#sk-container-id-1 div.sk-parallel-item:only-child::after {width: 0;}#sk-container-id-1 div.sk-dashed-wrapped {border: 1px dashed gray;margin: 0 0.4em 0.5em 0.4em;box-sizing: border-box;padding-bottom: 0.4em;background-color: white;}#sk-container-id-1 div.sk-label label {font-family: monospace;font-weight: bold;display: inline-block;line-height: 1.2em;}#sk-container-id-1 div.sk-label-container {text-align: center;}#sk-container-id-1 div.sk-container {/* jupyter's `normalize.less` sets `[hidden] { display: none; }` but bootstrap.min.css set `[hidden] { display: none !important; }` so we also need the `!important` here to be able to override the default hidden behavior on the sphinx rendered scikit-learn.org. See: https://github.com/scikit-learn/scikit-learn/issues/21755 */display: inline-block !important;position: relative;}#sk-container-id-1 div.sk-text-repr-fallback {display: none;}</style><div id=\"sk-container-id-1\" class=\"sk-top-container\"><div class=\"sk-text-repr-fallback\"><pre>RandomForestClassifier(random_state=42)</pre><b>In a Jupyter environment, please rerun this cell to show the HTML representation or trust the notebook. <br />On GitHub, the HTML representation is unable to render, please try loading this page with nbviewer.org.</b></div><div class=\"sk-container\" hidden><div class=\"sk-item\"><div class=\"sk-estimator sk-toggleable\"><input class=\"sk-toggleable__control sk-hidden--visually\" id=\"sk-estimator-id-1\" type=\"checkbox\" checked><label for=\"sk-estimator-id-1\" class=\"sk-toggleable__label sk-toggleable__label-arrow\">RandomForestClassifier</label><div class=\"sk-toggleable__content\"><pre>RandomForestClassifier(random_state=42)</pre></div></div></div></div></div>"
            ]
          },
          "metadata": {},
          "execution_count": 20
        }
      ]
    },
    {
      "cell_type": "code",
      "source": [
        "# Cross-validation for Random Forest\n",
        "rf_acc = cross_val_score(rf_model, X_train, y_train, cv=kfold, scoring=accuracy_scorer)\n",
        "rf_precision = cross_val_score(rf_model, X_train, y_train, cv=kfold, scoring=precision_scorer)\n",
        "rf_recall = cross_val_score(rf_model, X_train, y_train, cv=kfold, scoring=recall_scorer)\n",
        "\n",
        "print(\"Random Forest Cross-Validation Performance:\")\n",
        "print(f\"Mean Accuracy: {rf_acc.mean()}\")\n",
        "print(f\"Mean Precision: {rf_precision.mean()}\")\n",
        "print(f\"Mean Recall: {rf_recall.mean()}\")"
      ],
      "metadata": {
        "colab": {
          "base_uri": "https://localhost:8080/"
        },
        "id": "JUV0Lf7XxsG8",
        "outputId": "e1c32ffc-7773-4498-e4a3-b53c6444aeb1"
      },
      "execution_count": null,
      "outputs": [
        {
          "output_type": "stream",
          "name": "stdout",
          "text": [
            "Random Forest Cross-Validation Performance:\n",
            "Mean Accuracy: 0.7496647091560391\n",
            "Mean Precision: 0.3580814286448485\n",
            "Mean Recall: 0.16696469749328616\n"
          ]
        }
      ]
    },
    {
      "cell_type": "markdown",
      "source": [
        "# **Model Evaluation: Random Forest**"
      ],
      "metadata": {
        "id": "2qqetNtwRSSK"
      }
    },
    {
      "cell_type": "code",
      "source": [
        "y_pred_rf = rf_model.predict(X_test)\n",
        "accuracy_rf = accuracy_score(y_test, y_pred_rf)\n",
        "precision_rf = precision_score(y_test, y_pred_rf)\n",
        "recall_rf = recall_score(y_test, y_pred_rf)\n",
        "\n",
        "print(f'Random Forest Accuracy: {accuracy_rf}')\n",
        "print(f'Random Forest Precision: {precision_rf}')\n",
        "print(f'Random Forest Recall: {recall_rf}')\n",
        "print('Random Forest Confusion Matrix:')\n",
        "print(confusion_matrix(y_test, y_pred_rf))\n",
        "print('Random Forest Classification Report:')\n",
        "print(classification_report(y_test, y_pred_rf))\n"
      ],
      "metadata": {
        "colab": {
          "base_uri": "https://localhost:8080/"
        },
        "id": "wzC8YKfkRUbB",
        "outputId": "b78253bc-d702-44bf-f7a5-31521804642c"
      },
      "execution_count": null,
      "outputs": [
        {
          "output_type": "stream",
          "name": "stdout",
          "text": [
            "Random Forest Accuracy: 0.7489909569304655\n",
            "Random Forest Precision: 0.3570731707317073\n",
            "Random Forest Recall: 0.16917032586087358\n",
            "Random Forest Confusion Matrix:\n",
            "[[13928  1318]\n",
            " [ 3595   732]]\n",
            "Random Forest Classification Report:\n",
            "              precision    recall  f1-score   support\n",
            "\n",
            "           0       0.79      0.91      0.85     15246\n",
            "           1       0.36      0.17      0.23      4327\n",
            "\n",
            "    accuracy                           0.75     19573\n",
            "   macro avg       0.58      0.54      0.54     19573\n",
            "weighted avg       0.70      0.75      0.71     19573\n",
            "\n"
          ]
        }
      ]
    },
    {
      "cell_type": "markdown",
      "source": [
        "# **Model Training: XGBoost Classifier**"
      ],
      "metadata": {
        "id": "88hYiGj3grnE"
      }
    },
    {
      "cell_type": "code",
      "source": [
        "xgb_model = XGBClassifier(random_state=42)\n",
        "xgb_model.fit(X_train, y_train)"
      ],
      "metadata": {
        "colab": {
          "base_uri": "https://localhost:8080/",
          "height": 248
        },
        "id": "_klkubRggr_k",
        "outputId": "fc36dda6-40d7-485c-b6f4-ad1839d3c063"
      },
      "execution_count": null,
      "outputs": [
        {
          "output_type": "execute_result",
          "data": {
            "text/plain": [
              "XGBClassifier(base_score=None, booster=None, callbacks=None,\n",
              "              colsample_bylevel=None, colsample_bynode=None,\n",
              "              colsample_bytree=None, device=None, early_stopping_rounds=None,\n",
              "              enable_categorical=False, eval_metric=None, feature_types=None,\n",
              "              gamma=None, grow_policy=None, importance_type=None,\n",
              "              interaction_constraints=None, learning_rate=None, max_bin=None,\n",
              "              max_cat_threshold=None, max_cat_to_onehot=None,\n",
              "              max_delta_step=None, max_depth=None, max_leaves=None,\n",
              "              min_child_weight=None, missing=nan, monotone_constraints=None,\n",
              "              multi_strategy=None, n_estimators=None, n_jobs=None,\n",
              "              num_parallel_tree=None, random_state=42, ...)"
            ],
            "text/html": [
              "<style>#sk-container-id-2 {color: black;}#sk-container-id-2 pre{padding: 0;}#sk-container-id-2 div.sk-toggleable {background-color: white;}#sk-container-id-2 label.sk-toggleable__label {cursor: pointer;display: block;width: 100%;margin-bottom: 0;padding: 0.3em;box-sizing: border-box;text-align: center;}#sk-container-id-2 label.sk-toggleable__label-arrow:before {content: \"▸\";float: left;margin-right: 0.25em;color: #696969;}#sk-container-id-2 label.sk-toggleable__label-arrow:hover:before {color: black;}#sk-container-id-2 div.sk-estimator:hover label.sk-toggleable__label-arrow:before {color: black;}#sk-container-id-2 div.sk-toggleable__content {max-height: 0;max-width: 0;overflow: hidden;text-align: left;background-color: #f0f8ff;}#sk-container-id-2 div.sk-toggleable__content pre {margin: 0.2em;color: black;border-radius: 0.25em;background-color: #f0f8ff;}#sk-container-id-2 input.sk-toggleable__control:checked~div.sk-toggleable__content {max-height: 200px;max-width: 100%;overflow: auto;}#sk-container-id-2 input.sk-toggleable__control:checked~label.sk-toggleable__label-arrow:before {content: \"▾\";}#sk-container-id-2 div.sk-estimator input.sk-toggleable__control:checked~label.sk-toggleable__label {background-color: #d4ebff;}#sk-container-id-2 div.sk-label input.sk-toggleable__control:checked~label.sk-toggleable__label {background-color: #d4ebff;}#sk-container-id-2 input.sk-hidden--visually {border: 0;clip: rect(1px 1px 1px 1px);clip: rect(1px, 1px, 1px, 1px);height: 1px;margin: -1px;overflow: hidden;padding: 0;position: absolute;width: 1px;}#sk-container-id-2 div.sk-estimator {font-family: monospace;background-color: #f0f8ff;border: 1px dotted black;border-radius: 0.25em;box-sizing: border-box;margin-bottom: 0.5em;}#sk-container-id-2 div.sk-estimator:hover {background-color: #d4ebff;}#sk-container-id-2 div.sk-parallel-item::after {content: \"\";width: 100%;border-bottom: 1px solid gray;flex-grow: 1;}#sk-container-id-2 div.sk-label:hover label.sk-toggleable__label {background-color: #d4ebff;}#sk-container-id-2 div.sk-serial::before {content: \"\";position: absolute;border-left: 1px solid gray;box-sizing: border-box;top: 0;bottom: 0;left: 50%;z-index: 0;}#sk-container-id-2 div.sk-serial {display: flex;flex-direction: column;align-items: center;background-color: white;padding-right: 0.2em;padding-left: 0.2em;position: relative;}#sk-container-id-2 div.sk-item {position: relative;z-index: 1;}#sk-container-id-2 div.sk-parallel {display: flex;align-items: stretch;justify-content: center;background-color: white;position: relative;}#sk-container-id-2 div.sk-item::before, #sk-container-id-2 div.sk-parallel-item::before {content: \"\";position: absolute;border-left: 1px solid gray;box-sizing: border-box;top: 0;bottom: 0;left: 50%;z-index: -1;}#sk-container-id-2 div.sk-parallel-item {display: flex;flex-direction: column;z-index: 1;position: relative;background-color: white;}#sk-container-id-2 div.sk-parallel-item:first-child::after {align-self: flex-end;width: 50%;}#sk-container-id-2 div.sk-parallel-item:last-child::after {align-self: flex-start;width: 50%;}#sk-container-id-2 div.sk-parallel-item:only-child::after {width: 0;}#sk-container-id-2 div.sk-dashed-wrapped {border: 1px dashed gray;margin: 0 0.4em 0.5em 0.4em;box-sizing: border-box;padding-bottom: 0.4em;background-color: white;}#sk-container-id-2 div.sk-label label {font-family: monospace;font-weight: bold;display: inline-block;line-height: 1.2em;}#sk-container-id-2 div.sk-label-container {text-align: center;}#sk-container-id-2 div.sk-container {/* jupyter's `normalize.less` sets `[hidden] { display: none; }` but bootstrap.min.css set `[hidden] { display: none !important; }` so we also need the `!important` here to be able to override the default hidden behavior on the sphinx rendered scikit-learn.org. See: https://github.com/scikit-learn/scikit-learn/issues/21755 */display: inline-block !important;position: relative;}#sk-container-id-2 div.sk-text-repr-fallback {display: none;}</style><div id=\"sk-container-id-2\" class=\"sk-top-container\"><div class=\"sk-text-repr-fallback\"><pre>XGBClassifier(base_score=None, booster=None, callbacks=None,\n",
              "              colsample_bylevel=None, colsample_bynode=None,\n",
              "              colsample_bytree=None, device=None, early_stopping_rounds=None,\n",
              "              enable_categorical=False, eval_metric=None, feature_types=None,\n",
              "              gamma=None, grow_policy=None, importance_type=None,\n",
              "              interaction_constraints=None, learning_rate=None, max_bin=None,\n",
              "              max_cat_threshold=None, max_cat_to_onehot=None,\n",
              "              max_delta_step=None, max_depth=None, max_leaves=None,\n",
              "              min_child_weight=None, missing=nan, monotone_constraints=None,\n",
              "              multi_strategy=None, n_estimators=None, n_jobs=None,\n",
              "              num_parallel_tree=None, random_state=42, ...)</pre><b>In a Jupyter environment, please rerun this cell to show the HTML representation or trust the notebook. <br />On GitHub, the HTML representation is unable to render, please try loading this page with nbviewer.org.</b></div><div class=\"sk-container\" hidden><div class=\"sk-item\"><div class=\"sk-estimator sk-toggleable\"><input class=\"sk-toggleable__control sk-hidden--visually\" id=\"sk-estimator-id-2\" type=\"checkbox\" checked><label for=\"sk-estimator-id-2\" class=\"sk-toggleable__label sk-toggleable__label-arrow\">XGBClassifier</label><div class=\"sk-toggleable__content\"><pre>XGBClassifier(base_score=None, booster=None, callbacks=None,\n",
              "              colsample_bylevel=None, colsample_bynode=None,\n",
              "              colsample_bytree=None, device=None, early_stopping_rounds=None,\n",
              "              enable_categorical=False, eval_metric=None, feature_types=None,\n",
              "              gamma=None, grow_policy=None, importance_type=None,\n",
              "              interaction_constraints=None, learning_rate=None, max_bin=None,\n",
              "              max_cat_threshold=None, max_cat_to_onehot=None,\n",
              "              max_delta_step=None, max_depth=None, max_leaves=None,\n",
              "              min_child_weight=None, missing=nan, monotone_constraints=None,\n",
              "              multi_strategy=None, n_estimators=None, n_jobs=None,\n",
              "              num_parallel_tree=None, random_state=42, ...)</pre></div></div></div></div></div>"
            ]
          },
          "metadata": {},
          "execution_count": 23
        }
      ]
    },
    {
      "cell_type": "code",
      "source": [
        "# Cross-validation for XGBoost\n",
        "xgb_acc = cross_val_score(xgb_model, X_train, y_train, cv=kfold, scoring=accuracy_scorer)\n",
        "xgb_precision = cross_val_score(xgb_model, X_train, y_train, cv=kfold, scoring=precision_scorer)\n",
        "xgb_recall = cross_val_score(xgb_model, X_train, y_train, cv=kfold, scoring=recall_scorer)\n",
        "\n",
        "print(\"\\nXGBoost Cross-Validation Performance:\")\n",
        "print(f\"Mean Accuracy: {xgb_acc.mean()}\")\n",
        "print(f\"Mean Precision: {xgb_precision.mean()}\")\n",
        "print(f\"Mean Recall: {xgb_recall.mean()}\")"
      ],
      "metadata": {
        "colab": {
          "base_uri": "https://localhost:8080/"
        },
        "id": "Pzerg0nNyrke",
        "outputId": "22d21889-4e63-479c-ce46-5e76a6c435a1"
      },
      "execution_count": null,
      "outputs": [
        {
          "output_type": "stream",
          "name": "stdout",
          "text": [
            "\n",
            "XGBoost Cross-Validation Performance:\n",
            "Mean Accuracy: 0.7779182958987387\n",
            "Mean Precision: 0.48467713676099466\n",
            "Mean Recall: 0.0688656350844126\n"
          ]
        }
      ]
    },
    {
      "cell_type": "markdown",
      "source": [
        "# **Model Evaluation: XGBoost**"
      ],
      "metadata": {
        "id": "lkJ97QswRYsD"
      }
    },
    {
      "cell_type": "code",
      "source": [
        "y_pred_xgb = xgb_model.predict(X_test)\n",
        "accuracy_xgb = accuracy_score(y_test, y_pred_xgb)\n",
        "precision_xgb = precision_score(y_test, y_pred_xgb)\n",
        "recall_xgb = recall_score(y_test, y_pred_xgb)\n",
        "\n",
        "print(f'XGBoost Accuracy: {accuracy_xgb}')\n",
        "print(f'XGBoost Precision: {precision_xgb}')\n",
        "print(f'XGBoost Recall: {recall_xgb}')\n",
        "print('XGBoost Confusion Matrix:')\n",
        "print(confusion_matrix(y_test, y_pred_xgb))\n",
        "print('XGBoost Classification Report:')\n",
        "print(classification_report(y_test, y_pred_xgb))"
      ],
      "metadata": {
        "colab": {
          "base_uri": "https://localhost:8080/"
        },
        "id": "KUOs2fnKg2sm",
        "outputId": "1c291936-ddd2-4662-f2d9-5eac6c7196a9"
      },
      "execution_count": null,
      "outputs": [
        {
          "output_type": "stream",
          "name": "stdout",
          "text": [
            "XGBoost Accuracy: 0.7774996168190875\n",
            "XGBoost Precision: 0.4752650176678445\n",
            "XGBoost Recall: 0.06216778368384562\n",
            "XGBoost Confusion Matrix:\n",
            "[[14949   297]\n",
            " [ 4058   269]]\n",
            "XGBoost Classification Report:\n",
            "              precision    recall  f1-score   support\n",
            "\n",
            "           0       0.79      0.98      0.87     15246\n",
            "           1       0.48      0.06      0.11      4327\n",
            "\n",
            "    accuracy                           0.78     19573\n",
            "   macro avg       0.63      0.52      0.49     19573\n",
            "weighted avg       0.72      0.78      0.70     19573\n",
            "\n"
          ]
        }
      ]
    },
    {
      "cell_type": "markdown",
      "source": [
        "# **Model Training: Decision Tree Classifier**"
      ],
      "metadata": {
        "id": "tmLa4H9Ag62J"
      }
    },
    {
      "cell_type": "code",
      "source": [
        "dt_model = DecisionTreeClassifier(random_state=42)\n",
        "dt_model.fit(X_train, y_train)"
      ],
      "metadata": {
        "colab": {
          "base_uri": "https://localhost:8080/",
          "height": 74
        },
        "id": "D3N7Rz2eg9XP",
        "outputId": "746bae73-e8d9-4841-f79e-d02949e6d2c2"
      },
      "execution_count": null,
      "outputs": [
        {
          "output_type": "execute_result",
          "data": {
            "text/plain": [
              "DecisionTreeClassifier(random_state=42)"
            ],
            "text/html": [
              "<style>#sk-container-id-3 {color: black;}#sk-container-id-3 pre{padding: 0;}#sk-container-id-3 div.sk-toggleable {background-color: white;}#sk-container-id-3 label.sk-toggleable__label {cursor: pointer;display: block;width: 100%;margin-bottom: 0;padding: 0.3em;box-sizing: border-box;text-align: center;}#sk-container-id-3 label.sk-toggleable__label-arrow:before {content: \"▸\";float: left;margin-right: 0.25em;color: #696969;}#sk-container-id-3 label.sk-toggleable__label-arrow:hover:before {color: black;}#sk-container-id-3 div.sk-estimator:hover label.sk-toggleable__label-arrow:before {color: black;}#sk-container-id-3 div.sk-toggleable__content {max-height: 0;max-width: 0;overflow: hidden;text-align: left;background-color: #f0f8ff;}#sk-container-id-3 div.sk-toggleable__content pre {margin: 0.2em;color: black;border-radius: 0.25em;background-color: #f0f8ff;}#sk-container-id-3 input.sk-toggleable__control:checked~div.sk-toggleable__content {max-height: 200px;max-width: 100%;overflow: auto;}#sk-container-id-3 input.sk-toggleable__control:checked~label.sk-toggleable__label-arrow:before {content: \"▾\";}#sk-container-id-3 div.sk-estimator input.sk-toggleable__control:checked~label.sk-toggleable__label {background-color: #d4ebff;}#sk-container-id-3 div.sk-label input.sk-toggleable__control:checked~label.sk-toggleable__label {background-color: #d4ebff;}#sk-container-id-3 input.sk-hidden--visually {border: 0;clip: rect(1px 1px 1px 1px);clip: rect(1px, 1px, 1px, 1px);height: 1px;margin: -1px;overflow: hidden;padding: 0;position: absolute;width: 1px;}#sk-container-id-3 div.sk-estimator {font-family: monospace;background-color: #f0f8ff;border: 1px dotted black;border-radius: 0.25em;box-sizing: border-box;margin-bottom: 0.5em;}#sk-container-id-3 div.sk-estimator:hover {background-color: #d4ebff;}#sk-container-id-3 div.sk-parallel-item::after {content: \"\";width: 100%;border-bottom: 1px solid gray;flex-grow: 1;}#sk-container-id-3 div.sk-label:hover label.sk-toggleable__label {background-color: #d4ebff;}#sk-container-id-3 div.sk-serial::before {content: \"\";position: absolute;border-left: 1px solid gray;box-sizing: border-box;top: 0;bottom: 0;left: 50%;z-index: 0;}#sk-container-id-3 div.sk-serial {display: flex;flex-direction: column;align-items: center;background-color: white;padding-right: 0.2em;padding-left: 0.2em;position: relative;}#sk-container-id-3 div.sk-item {position: relative;z-index: 1;}#sk-container-id-3 div.sk-parallel {display: flex;align-items: stretch;justify-content: center;background-color: white;position: relative;}#sk-container-id-3 div.sk-item::before, #sk-container-id-3 div.sk-parallel-item::before {content: \"\";position: absolute;border-left: 1px solid gray;box-sizing: border-box;top: 0;bottom: 0;left: 50%;z-index: -1;}#sk-container-id-3 div.sk-parallel-item {display: flex;flex-direction: column;z-index: 1;position: relative;background-color: white;}#sk-container-id-3 div.sk-parallel-item:first-child::after {align-self: flex-end;width: 50%;}#sk-container-id-3 div.sk-parallel-item:last-child::after {align-self: flex-start;width: 50%;}#sk-container-id-3 div.sk-parallel-item:only-child::after {width: 0;}#sk-container-id-3 div.sk-dashed-wrapped {border: 1px dashed gray;margin: 0 0.4em 0.5em 0.4em;box-sizing: border-box;padding-bottom: 0.4em;background-color: white;}#sk-container-id-3 div.sk-label label {font-family: monospace;font-weight: bold;display: inline-block;line-height: 1.2em;}#sk-container-id-3 div.sk-label-container {text-align: center;}#sk-container-id-3 div.sk-container {/* jupyter's `normalize.less` sets `[hidden] { display: none; }` but bootstrap.min.css set `[hidden] { display: none !important; }` so we also need the `!important` here to be able to override the default hidden behavior on the sphinx rendered scikit-learn.org. See: https://github.com/scikit-learn/scikit-learn/issues/21755 */display: inline-block !important;position: relative;}#sk-container-id-3 div.sk-text-repr-fallback {display: none;}</style><div id=\"sk-container-id-3\" class=\"sk-top-container\"><div class=\"sk-text-repr-fallback\"><pre>DecisionTreeClassifier(random_state=42)</pre><b>In a Jupyter environment, please rerun this cell to show the HTML representation or trust the notebook. <br />On GitHub, the HTML representation is unable to render, please try loading this page with nbviewer.org.</b></div><div class=\"sk-container\" hidden><div class=\"sk-item\"><div class=\"sk-estimator sk-toggleable\"><input class=\"sk-toggleable__control sk-hidden--visually\" id=\"sk-estimator-id-3\" type=\"checkbox\" checked><label for=\"sk-estimator-id-3\" class=\"sk-toggleable__label sk-toggleable__label-arrow\">DecisionTreeClassifier</label><div class=\"sk-toggleable__content\"><pre>DecisionTreeClassifier(random_state=42)</pre></div></div></div></div></div>"
            ]
          },
          "metadata": {},
          "execution_count": 26
        }
      ]
    },
    {
      "cell_type": "code",
      "source": [
        "# Cross-validation for Decision Tree\n",
        "dt_acc = cross_val_score(dt_model, X_train, y_train, cv=kfold, scoring=accuracy_scorer)\n",
        "dt_precision = cross_val_score(dt_model, X_train, y_train, cv=kfold, scoring=precision_scorer)\n",
        "dt_recall = cross_val_score(dt_model, X_train, y_train, cv=kfold, scoring=recall_scorer)\n",
        "\n",
        "print(\"\\nDecision Tree Cross-Validation Performance:\")\n",
        "print(f\"Mean Accuracy: {dt_acc.mean()}\")\n",
        "print(f\"Mean Precision: {dt_precision.mean()}\")\n",
        "print(f\"Mean Recall: {dt_recall.mean()}\")"
      ],
      "metadata": {
        "colab": {
          "base_uri": "https://localhost:8080/"
        },
        "id": "pvgORsLFy7q0",
        "outputId": "00824bd2-36e7-4ac5-d4d4-defd52ca5339"
      },
      "execution_count": null,
      "outputs": [
        {
          "output_type": "stream",
          "name": "stdout",
          "text": [
            "\n",
            "Decision Tree Cross-Validation Performance:\n",
            "Mean Accuracy: 0.6721589780785179\n",
            "Mean Precision: 0.277342661900729\n",
            "Mean Recall: 0.3008264575927422\n"
          ]
        }
      ]
    },
    {
      "cell_type": "markdown",
      "source": [
        "# **Model Evaluation: Decision Tree**"
      ],
      "metadata": {
        "id": "X0bk9SCLhBEw"
      }
    },
    {
      "cell_type": "code",
      "source": [
        "y_pred_dt = dt_model.predict(X_test)\n",
        "accuracy_dt = accuracy_score(y_test, y_pred_dt)\n",
        "precision_dt = precision_score(y_test, y_pred_dt)\n",
        "recall_dt = recall_score(y_test, y_pred_dt)\n",
        "\n",
        "print(f'Decision Tree Accuracy: {accuracy_dt}')\n",
        "print(f'Decision Tree Precision: {precision_dt}')\n",
        "print(f'Decision Tree Recall: {recall_dt}')\n",
        "print('Decision Tree Confusion Matrix:')\n",
        "print(confusion_matrix(y_test, y_pred_dt))\n",
        "print('Decision Tree Classification Report:')\n",
        "print(classification_report(y_test, y_pred_dt))"
      ],
      "metadata": {
        "colab": {
          "base_uri": "https://localhost:8080/"
        },
        "id": "PtvsmeakhCoJ",
        "outputId": "eac2f5d9-de6a-4181-9bad-9e372b9b0833"
      },
      "execution_count": null,
      "outputs": [
        {
          "output_type": "stream",
          "name": "stdout",
          "text": [
            "Decision Tree Accuracy: 0.6765953098656312\n",
            "Decision Tree Precision: 0.2826134143694378\n",
            "Decision Tree Recall: 0.3009013173099145\n",
            "Decision Tree Confusion Matrix:\n",
            "[[11941  3305]\n",
            " [ 3025  1302]]\n",
            "Decision Tree Classification Report:\n",
            "              precision    recall  f1-score   support\n",
            "\n",
            "           0       0.80      0.78      0.79     15246\n",
            "           1       0.28      0.30      0.29      4327\n",
            "\n",
            "    accuracy                           0.68     19573\n",
            "   macro avg       0.54      0.54      0.54     19573\n",
            "weighted avg       0.68      0.68      0.68     19573\n",
            "\n"
          ]
        }
      ]
    },
    {
      "cell_type": "markdown",
      "source": [
        "# **Model Training: Support Vector Machine (SVM)**"
      ],
      "metadata": {
        "id": "8Rh8epKqhGrQ"
      }
    },
    {
      "cell_type": "code",
      "source": [
        "svm_model = SVC(random_state=42)\n",
        "svm_model.fit(X_train, y_train)"
      ],
      "metadata": {
        "colab": {
          "base_uri": "https://localhost:8080/",
          "height": 74
        },
        "id": "9A3rxusthIh2",
        "outputId": "71d8dbdf-4d33-40ab-83b3-7dde4a015957"
      },
      "execution_count": null,
      "outputs": [
        {
          "output_type": "execute_result",
          "data": {
            "text/plain": [
              "SVC(random_state=42)"
            ],
            "text/html": [
              "<style>#sk-container-id-4 {color: black;}#sk-container-id-4 pre{padding: 0;}#sk-container-id-4 div.sk-toggleable {background-color: white;}#sk-container-id-4 label.sk-toggleable__label {cursor: pointer;display: block;width: 100%;margin-bottom: 0;padding: 0.3em;box-sizing: border-box;text-align: center;}#sk-container-id-4 label.sk-toggleable__label-arrow:before {content: \"▸\";float: left;margin-right: 0.25em;color: #696969;}#sk-container-id-4 label.sk-toggleable__label-arrow:hover:before {color: black;}#sk-container-id-4 div.sk-estimator:hover label.sk-toggleable__label-arrow:before {color: black;}#sk-container-id-4 div.sk-toggleable__content {max-height: 0;max-width: 0;overflow: hidden;text-align: left;background-color: #f0f8ff;}#sk-container-id-4 div.sk-toggleable__content pre {margin: 0.2em;color: black;border-radius: 0.25em;background-color: #f0f8ff;}#sk-container-id-4 input.sk-toggleable__control:checked~div.sk-toggleable__content {max-height: 200px;max-width: 100%;overflow: auto;}#sk-container-id-4 input.sk-toggleable__control:checked~label.sk-toggleable__label-arrow:before {content: \"▾\";}#sk-container-id-4 div.sk-estimator input.sk-toggleable__control:checked~label.sk-toggleable__label {background-color: #d4ebff;}#sk-container-id-4 div.sk-label input.sk-toggleable__control:checked~label.sk-toggleable__label {background-color: #d4ebff;}#sk-container-id-4 input.sk-hidden--visually {border: 0;clip: rect(1px 1px 1px 1px);clip: rect(1px, 1px, 1px, 1px);height: 1px;margin: -1px;overflow: hidden;padding: 0;position: absolute;width: 1px;}#sk-container-id-4 div.sk-estimator {font-family: monospace;background-color: #f0f8ff;border: 1px dotted black;border-radius: 0.25em;box-sizing: border-box;margin-bottom: 0.5em;}#sk-container-id-4 div.sk-estimator:hover {background-color: #d4ebff;}#sk-container-id-4 div.sk-parallel-item::after {content: \"\";width: 100%;border-bottom: 1px solid gray;flex-grow: 1;}#sk-container-id-4 div.sk-label:hover label.sk-toggleable__label {background-color: #d4ebff;}#sk-container-id-4 div.sk-serial::before {content: \"\";position: absolute;border-left: 1px solid gray;box-sizing: border-box;top: 0;bottom: 0;left: 50%;z-index: 0;}#sk-container-id-4 div.sk-serial {display: flex;flex-direction: column;align-items: center;background-color: white;padding-right: 0.2em;padding-left: 0.2em;position: relative;}#sk-container-id-4 div.sk-item {position: relative;z-index: 1;}#sk-container-id-4 div.sk-parallel {display: flex;align-items: stretch;justify-content: center;background-color: white;position: relative;}#sk-container-id-4 div.sk-item::before, #sk-container-id-4 div.sk-parallel-item::before {content: \"\";position: absolute;border-left: 1px solid gray;box-sizing: border-box;top: 0;bottom: 0;left: 50%;z-index: -1;}#sk-container-id-4 div.sk-parallel-item {display: flex;flex-direction: column;z-index: 1;position: relative;background-color: white;}#sk-container-id-4 div.sk-parallel-item:first-child::after {align-self: flex-end;width: 50%;}#sk-container-id-4 div.sk-parallel-item:last-child::after {align-self: flex-start;width: 50%;}#sk-container-id-4 div.sk-parallel-item:only-child::after {width: 0;}#sk-container-id-4 div.sk-dashed-wrapped {border: 1px dashed gray;margin: 0 0.4em 0.5em 0.4em;box-sizing: border-box;padding-bottom: 0.4em;background-color: white;}#sk-container-id-4 div.sk-label label {font-family: monospace;font-weight: bold;display: inline-block;line-height: 1.2em;}#sk-container-id-4 div.sk-label-container {text-align: center;}#sk-container-id-4 div.sk-container {/* jupyter's `normalize.less` sets `[hidden] { display: none; }` but bootstrap.min.css set `[hidden] { display: none !important; }` so we also need the `!important` here to be able to override the default hidden behavior on the sphinx rendered scikit-learn.org. See: https://github.com/scikit-learn/scikit-learn/issues/21755 */display: inline-block !important;position: relative;}#sk-container-id-4 div.sk-text-repr-fallback {display: none;}</style><div id=\"sk-container-id-4\" class=\"sk-top-container\"><div class=\"sk-text-repr-fallback\"><pre>SVC(random_state=42)</pre><b>In a Jupyter environment, please rerun this cell to show the HTML representation or trust the notebook. <br />On GitHub, the HTML representation is unable to render, please try loading this page with nbviewer.org.</b></div><div class=\"sk-container\" hidden><div class=\"sk-item\"><div class=\"sk-estimator sk-toggleable\"><input class=\"sk-toggleable__control sk-hidden--visually\" id=\"sk-estimator-id-4\" type=\"checkbox\" checked><label for=\"sk-estimator-id-4\" class=\"sk-toggleable__label sk-toggleable__label-arrow\">SVC</label><div class=\"sk-toggleable__content\"><pre>SVC(random_state=42)</pre></div></div></div></div></div>"
            ]
          },
          "metadata": {},
          "execution_count": 29
        }
      ]
    },
    {
      "cell_type": "code",
      "source": [
        "svm_acc = cross_val_score(svm, X_train, y_train, cv=kfold, scoring=accuracy_scorer)\n",
        "svm_precision = cross_val_score(svm, X_train, y_train, cv=kfold, scoring=precision_scorer)\n",
        "svm_recall = cross_val_score(svm, X_train, y_train, cv=kfold, scoring=recall_scorer)\n",
        "\n",
        "print(\"\\nSVM Cross-Validation Performance:\")\n",
        "print(f\"Mean Accuracy: {svm_acc.mean()}\")\n",
        "print(f\"Mean Precision: {svm_precision.mean()}\")\n",
        "print(f\"Mean Recall: {svm_recall.mean()}\")\n"
      ],
      "metadata": {
        "id": "yDS60eaczoDu"
      },
      "execution_count": null,
      "outputs": []
    },
    {
      "cell_type": "markdown",
      "source": [
        "# **Model Evaluation: SVM**"
      ],
      "metadata": {
        "id": "Z4vLoTg9inuR"
      }
    },
    {
      "cell_type": "code",
      "source": [
        "y_pred_svm = svm_model.predict(X_test)\n",
        "accuracy_svm = accuracy_score(y_test, y_pred_svm)\n",
        "precision_svm = precision_score(y_test, y_pred_svm)\n",
        "recall_svm = recall_score(y_test, y_pred_svm)\n",
        "\n",
        "print(f'SVM Accuracy: {accuracy_svm}')\n",
        "print(f'SVM Precision: {precision_svm}')\n",
        "print(f'SVM Recall: {recall_svm}')\n",
        "print('SVM Confusion Matrix:')\n",
        "print(confusion_matrix(y_test, y_pred_svm))\n",
        "print('SVM Classification Report:')\n",
        "print(classification_report(y_test, y_pred_svm))"
      ],
      "metadata": {
        "id": "q8z8ZMOwjKxT"
      },
      "execution_count": null,
      "outputs": []
    },
    {
      "cell_type": "markdown",
      "source": [
        "#Overfitting/Underfitting test"
      ],
      "metadata": {
        "id": "I-8Z2fQbl6gn"
      }
    },
    {
      "cell_type": "code",
      "source": [
        "# **Model Training and Overfitting Check**\n",
        "\n",
        "# **Random Forest Classifier**\n",
        "rf_model = RandomForestClassifier(random_state=42)\n",
        "rf_model.fit(X_train, y_train)\n",
        "\n",
        "# Predictions on both train and test sets\n",
        "y_train_pred_rf = rf_model.predict(X_train)\n",
        "y_test_pred_rf = rf_model.predict(X_test)\n",
        "\n",
        "# Accuracy, Precision, Recall for Train and Test\n",
        "print(\"Random Forest Performance\")\n",
        "print(\"Train Accuracy:\", accuracy_score(y_train, y_train_pred_rf))\n",
        "print(\"Test Accuracy:\", accuracy_score(y_test, y_test_pred_rf))\n",
        "print(\"Train Precision:\", precision_score(y_train, y_train_pred_rf))\n",
        "print(\"Test Precision:\", precision_score(y_test, y_test_pred_rf))\n",
        "print(\"Train Recall:\", recall_score(y_train, y_train_pred_rf))\n",
        "print(\"Test Recall:\", recall_score(y_test, y_test_pred_rf))\n",
        "print(\"\\n\")\n",
        "\n",
        "# **XGBoost Classifier**\n",
        "xgb_model = XGBClassifier(random_state=42)\n",
        "xgb_model.fit(X_train, y_train)\n",
        "\n",
        "# Predictions on both train and test sets\n",
        "y_train_pred_xgb = xgb_model.predict(X_train)\n",
        "y_test_pred_xgb = xgb_model.predict(X_test)\n",
        "\n",
        "# Accuracy, Precision, Recall for Train and Test\n",
        "print(\"XGBoost Performance\")\n",
        "print(\"Train Accuracy:\", accuracy_score(y_train, y_train_pred_xgb))\n",
        "print(\"Test Accuracy:\", accuracy_score(y_test, y_test_pred_xgb))\n",
        "print(\"Train Precision:\", precision_score(y_train, y_train_pred_xgb))\n",
        "print(\"Test Precision:\", precision_score(y_test, y_test_pred_xgb))\n",
        "print(\"Train Recall:\", recall_score(y_train, y_train_pred_xgb))\n",
        "print(\"Test Recall:\", recall_score(y_test, y_test_pred_xgb))\n",
        "print(\"\\n\")\n",
        "\n",
        "# **Decision Tree Classifier**\n",
        "dt_model = DecisionTreeClassifier(random_state=42)\n",
        "dt_model.fit(X_train, y_train)\n",
        "\n",
        "# Predictions on both train and test sets\n",
        "y_train_pred_dt = dt_model.predict(X_train)\n",
        "y_test_pred_dt = dt_model.predict(X_test)\n",
        "\n",
        "# Accuracy, Precision, Recall for Train and Test\n",
        "print(\"Decision Tree Performance\")\n",
        "print(\"Train Accuracy:\", accuracy_score(y_train, y_train_pred_dt))\n",
        "print(\"Test Accuracy:\", accuracy_score(y_test, y_test_pred_dt))\n",
        "print(\"Train Precision:\", precision_score(y_train, y_train_pred_dt))\n",
        "print(\"Test Precision:\", precision_score(y_test, y_test_pred_dt))\n",
        "print(\"Train Recall:\", recall_score(y_train, y_train_pred_dt))\n",
        "print(\"Test Recall:\", recall_score(y_test, y_test_pred_dt))\n",
        "print(\"\\n\")\n",
        "\n",
        "# **Support Vector Machine (SVM)**\n",
        "svm_model = SVC(random_state=42)\n",
        "svm_model.fit(X_train, y_train)\n",
        "\n",
        "# Predictions on both train and test sets\n",
        "y_train_pred_svm = svm_model.predict(X_train)\n",
        "y_test_pred_svm = svm_model.predict(X_test)\n",
        "\n",
        "# Accuracy, Precision, Recall for Train and Test\n",
        "print(\"SVM Performance\")\n",
        "print(\"Train Accuracy:\", accuracy_score(y_train, y_train_pred_svm))\n",
        "print(\"Test Accuracy:\", accuracy_score(y_test, y_test_pred_svm))\n",
        "print(\"Train Precision:\", precision_score(y_train, y_train_pred_svm))\n",
        "print(\"Test Precision:\", precision_score(y_test, y_test_pred_svm))\n",
        "print(\"Train Recall:\", recall_score(y_train, y_train_pred_svm))\n",
        "print(\"Test Recall:\", recall_score(y_test, y_test_pred_svm))\n",
        "print(\"\\n\")\n"
      ],
      "metadata": {
        "id": "VJF5NHnPmE5H"
      },
      "execution_count": null,
      "outputs": []
    },
    {
      "cell_type": "markdown",
      "source": [
        "**Interpretation**:\n",
        "* **Overfitting**: Both the **Random Forest** and **Decision Tree** classifiers show **overfitting** behavior.\n",
        " * The **train accuracy, precision, and recall** are extremely high, almost perfect, indicating that the models are learning the training data too well, potentially even capturing noise in the data.\n",
        " * However, when tested on unseen data (the test set), the **test accuracy, precision, and recall** drop significantly, especially precision and recall, indicating that the models do not generalize well on new data.\n",
        " * The large gap between training and testing performance is a strong indication of **overfitting**.\n",
        "\n",
        "\n",
        "\n"
      ],
      "metadata": {
        "id": "R6LvxgFxnw3-"
      }
    },
    {
      "cell_type": "markdown",
      "source": [],
      "metadata": {
        "id": "w9MhTk04oTue"
      }
    },
    {
      "cell_type": "markdown",
      "source": [
        "**Interpretation**:\n",
        "* **Underfitting**: The **XGBoost** model is likely **underfitting**.\n",
        " * Both the **train and test accuracy** are relatively lower compared to Random Forest and Decision Tree.\n",
        " * The **train precision and recall** are particularly low, indicating that the model is not capturing enough relevant patterns from the training data.\n",
        " * While the **test accuracy is slightly better** than the Decision Tree, the low performance on training metrics indicates that the model may not have enough complexity to capture the relationship in the data, leading to **underfitting**.\n",
        "\n",
        "\n",
        "\n"
      ],
      "metadata": {
        "id": "5B_-8oR9oDgf"
      }
    },
    {
      "cell_type": "markdown",
      "source": [
        "##1\\. Random Forest Tuning"
      ],
      "metadata": {
        "id": "UNVmgWvyomYl"
      }
    },
    {
      "cell_type": "code",
      "source": [
        "from sklearn.ensemble import RandomForestClassifier\n",
        "from sklearn.metrics import accuracy_score, precision_score, recall_score\n",
        "\n",
        "# Tuning Random Forest to reduce overfitting\n",
        "rf_model = RandomForestClassifier(\n",
        "    n_estimators=100,  # number of trees\n",
        "    max_depth=10,  # limit depth of trees\n",
        "    min_samples_split=10,  # minimum samples required to split a node\n",
        "    min_samples_leaf=5,  # minimum samples in each leaf node\n",
        "    max_features='sqrt',  # number of features to consider at each split\n",
        "    random_state=42\n",
        ")\n",
        "\n",
        "# Training\n",
        "rf_model.fit(X_train, y_train)\n",
        "\n",
        "# Predicting\n",
        "y_train_pred_rf = rf_model.predict(X_train)\n",
        "y_test_pred_rf = rf_model.predict(X_test)\n",
        "\n",
        "# Evaluating\n",
        "print(\"Random Forest Performance After Tuning\")\n",
        "print(f\"Train Accuracy: {accuracy_score(y_train, y_train_pred_rf)}\")\n",
        "print(f\"Test Accuracy: {accuracy_score(y_test, y_test_pred_rf)}\")\n",
        "print(f\"Train Precision: {precision_score(y_train, y_train_pred_rf)}\")\n",
        "print(f\"Test Precision: {precision_score(y_test, y_test_pred_rf)}\")\n",
        "print(f\"Train Recall: {recall_score(y_train, y_train_pred_rf)}\")\n",
        "print(f\"Test Recall: {recall_score(y_test, y_test_pred_rf)}\")\n"
      ],
      "metadata": {
        "id": "yuEQXMCnotfm"
      },
      "execution_count": null,
      "outputs": []
    },
    {
      "cell_type": "markdown",
      "source": [
        "##2\\. Decision Tree Tuning"
      ],
      "metadata": {
        "id": "cnKmn0Axo1K5"
      }
    },
    {
      "cell_type": "code",
      "source": [
        "from sklearn.tree import DecisionTreeClassifier\n",
        "\n",
        "# Tuning Decision Tree to reduce overfitting\n",
        "dt_model = DecisionTreeClassifier(\n",
        "    max_depth=10,  # limit tree depth\n",
        "    min_samples_split=10,  # minimum samples required to split a node\n",
        "    min_samples_leaf=5,  # minimum samples required in each leaf node\n",
        "    random_state=42\n",
        ")\n",
        "\n",
        "# Training\n",
        "dt_model.fit(X_train, y_train)\n",
        "\n",
        "# Predicting\n",
        "y_train_pred_dt = dt_model.predict(X_train)\n",
        "y_test_pred_dt = dt_model.predict(X_test)\n",
        "\n",
        "# Evaluating\n",
        "print(\"Decision Tree Performance After Tuning\")\n",
        "print(f\"Train Accuracy: {accuracy_score(y_train, y_train_pred_dt)}\")\n",
        "print(f\"Test Accuracy: {accuracy_score(y_test, y_test_pred_dt)}\")\n",
        "print(f\"Train Precision: {precision_score(y_train, y_train_pred_dt)}\")\n",
        "print(f\"Test Precision: {precision_score(y_test, y_test_pred_dt)}\")\n",
        "print(f\"Train Recall: {recall_score(y_train, y_train_pred_dt)}\")\n",
        "print(f\"Test Recall: {recall_score(y_test, y_test_pred_dt)}\")\n"
      ],
      "metadata": {
        "id": "nhR2_ee1o9KG"
      },
      "execution_count": null,
      "outputs": []
    },
    {
      "cell_type": "markdown",
      "source": [
        "##3\\. XGBoost Tuning"
      ],
      "metadata": {
        "id": "s6c2NgaypAR8"
      }
    },
    {
      "cell_type": "code",
      "source": [
        "import xgboost as xgb\n",
        "\n",
        "# Tuning XGBoost to address underfitting\n",
        "xgb_model = xgb.XGBClassifier(\n",
        "    n_estimators=200,  # increasing the number of trees\n",
        "    max_depth=6,  # allowing slightly deeper trees\n",
        "    learning_rate=0.1,  # lowering the learning rate\n",
        "    subsample=0.8,  # subsampling to prevent overfitting\n",
        "    colsample_bytree=0.8,  # using fewer features at each split\n",
        "    random_state=42,\n",
        "    use_label_encoder=False,\n",
        "    eval_metric='logloss'\n",
        ")\n",
        "\n",
        "# Training\n",
        "xgb_model.fit(X_train, y_train)\n",
        "\n",
        "# Predicting\n",
        "y_train_pred_xgb = xgb_model.predict(X_train)\n",
        "y_test_pred_xgb = xgb_model.predict(X_test)\n",
        "\n",
        "# Evaluating\n",
        "print(\"XGBoost Performance After Tuning\")\n",
        "print(f\"Train Accuracy: {accuracy_score(y_train, y_train_pred_xgb)}\")\n",
        "print(f\"Test Accuracy: {accuracy_score(y_test, y_test_pred_xgb)}\")\n",
        "print(f\"Train Precision: {precision_score(y_train, y_train_pred_xgb)}\")\n",
        "print(f\"Test Precision: {precision_score(y_test, y_test_pred_xgb)}\")\n",
        "print(f\"Train Recall: {recall_score(y_train, y_train_pred_xgb)}\")\n",
        "print(f\"Test Recall: {recall_score(y_test, y_test_pred_xgb)}\")\n"
      ],
      "metadata": {
        "id": "TyAxMbuQpHkL"
      },
      "execution_count": null,
      "outputs": []
    }
  ]
}